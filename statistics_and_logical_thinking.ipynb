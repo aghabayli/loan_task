{
 "cells": [
  {
   "cell_type": "code",
   "execution_count": 1,
   "metadata": {
    "collapsed": true
   },
   "outputs": [],
   "source": [
    "import pandas as pd\n",
    "import matplotlib.pyplot as plt\n",
    "%matplotlib inline\n",
    "from scipy.stats import pearsonr"
   ]
  },
  {
   "cell_type": "code",
   "execution_count": 169,
   "metadata": {
    "collapsed": false
   },
   "outputs": [
    {
     "name": "stderr",
     "output_type": "stream",
     "text": [
      "/usr/local/lib/python3.5/dist-packages/IPython/core/interactiveshell.py:2723: DtypeWarning: Columns (34,37,38,67,80,82,83,89,90) have mixed types. Specify dtype option on import or set low_memory=False.\n",
      "  interactivity=interactivity, compiler=compiler, result=result)\n"
     ]
    }
   ],
   "source": [
    "data = pd.read_csv(\"LoanData.csv\")"
   ]
  },
  {
   "cell_type": "code",
   "execution_count": 42,
   "metadata": {
    "collapsed": false
   },
   "outputs": [
    {
     "name": "stdout",
     "output_type": "stream",
     "text": [
      "-0.07280563918543621\n"
     ]
    },
    {
     "data": {
      "text/plain": [
       "<matplotlib.collections.PathCollection at 0x7f95fcbe75c0>"
      ]
     },
     "execution_count": 42,
     "metadata": {},
     "output_type": "execute_result"
    },
    {
     "data": {
      "image/png": "[encoded data removed]",
      "text/plain": [
       "<Figure size 600x400 with 1 Axes>"
      ]
     },
     "metadata": {},
     "output_type": "display_data"
    }
   ],
   "source": [
    "#Task1\n",
    "#Calculate Spearman correlation coefficient\n",
    "print(data.ProbabilityOfDefault.fillna(0).corr(data.Age.fillna(0), \"spearman\"))\n",
    "#Plot dependencies\n",
    "plt.scatter(data.ProbabilityOfDefault.fillna(0), data.Age.fillna(0))"
   ]
  },
  {
   "cell_type": "code",
   "execution_count": 43,
   "metadata": {
    "collapsed": false
   },
   "outputs": [
    {
     "data": {
      "text/plain": [
       "Country  Rating\n",
       "EE       A          688\n",
       "         AA         121\n",
       "         B         2288\n",
       "         C         5631\n",
       "         D         7286\n",
       "         E         7627\n",
       "         F         1342\n",
       "         HR        1165\n",
       "ES       B           11\n",
       "         C           45\n",
       "         D          844\n",
       "         E         1165\n",
       "         F         3612\n",
       "         HR        7032\n",
       "FI       A           52\n",
       "         AA          57\n",
       "         B          448\n",
       "         C          957\n",
       "         D         2487\n",
       "         E         2512\n",
       "         F         9504\n",
       "         HR        2456\n",
       "SK       D            6\n",
       "         E           11\n",
       "         F           58\n",
       "         HR         214\n",
       "Name: Rating, dtype: int64"
      ]
     },
     "execution_count": 43,
     "metadata": {},
     "output_type": "execute_result"
    }
   ],
   "source": [
    "#Task2\n",
    "#Groupby country and raitin, find the number of each\n",
    "data[data.NewCreditCustomer == True].groupby(['Country','Rating']).Rating.count()\n",
    "\n"
   ]
  },
  {
   "cell_type": "code",
   "execution_count": 134,
   "metadata": {
    "collapsed": false
   },
   "outputs": [
    {
     "name": "stdout",
     "output_type": "stream",
     "text": [
      "Optimization terminated successfully.\n",
      "         Current function value: 0.608719\n",
      "         Iterations 5\n",
      "                            Results: Logit\n",
      "======================================================================\n",
      "Model:                Logit             Pseudo R-squared:  0.036      \n",
      "Dependent Variable:   DefaultDate       AIC:               127946.0758\n",
      "Date:                 2019-09-02 11:37  BIC:               127984.3260\n",
      "No. Observations:     105088            Log-Likelihood:    -63969.    \n",
      "Df Model:             3                 LL-Null:           -66334.    \n",
      "Df Residuals:         105084            LLR p-value:       0.0000     \n",
      "Converged:            1.0000            Scale:             1.0000     \n",
      "No. Iterations:       5.0000                                          \n",
      "----------------------------------------------------------------------\n",
      "                       Coef.  Std.Err.    z     P>|z|   [0.025  0.975]\n",
      "----------------------------------------------------------------------\n",
      "Country                0.4186   0.0080  52.3171 0.0000  0.4029  0.4343\n",
      "Education             -0.0497   0.0059  -8.4650 0.0000 -0.0612 -0.0382\n",
      "MaturityDate_Original -1.0541   0.0250 -42.1220 0.0000 -1.1031 -1.0050\n",
      "NewCreditCustomer      0.3743   0.0143  26.1175 0.0000  0.3462  0.4024\n",
      "======================================================================\n",
      "\n"
     ]
    }
   ],
   "source": [
    "#Task3\n",
    "#Country, Education, MaturityDate and NewCreditCustomer\n",
    "#Import library\n",
    "from sklearn.linear_model import LogisticRegression\n",
    "import statsmodels.api as sm\n",
    "import numpy as np\n",
    "countries = list(data.Country.unique())\n",
    "\n",
    "#Labels\n",
    "train_y = data.DefaultDate.fillna(0).apply(lambda x: 1 if x!=0 else 0)\n",
    "#Select needed features\n",
    "train_X = data[['Country', 'Education', 'MaturityDate_Original',  'NewCreditCustomer']].fillna(0)\n",
    "#Change format to float as being on maturity leave or not\n",
    "train_X['MaturityDate_Original'] = data.MaturityDate_Original.apply(lambda x: 1 if x!=0 else 0)\n",
    "#Encode feature to integer\n",
    "train_X['Country'] = data.Country.apply(lambda x: countries.index(x))\n",
    "#Change format from boolean to int\n",
    "train_X['NewCreditCustomer'] = data.NewCreditCustomer.apply(lambda x: 1 if x==True else 0 )\n",
    "#Train logistic regression\n",
    "lr = sm.Logit(train_y, train_X)\n",
    "#Fit to the model\n",
    "logit = lr.fit()\n",
    "#Print summary of the training\n",
    "print(logit.summary2())"
   ]
  },
  {
   "cell_type": "markdown",
   "metadata": {},
   "source": [
    "We can see that all features have p-value equal to 0. Which means that all features are highly significant in default exsistence prediction."
   ]
  },
  {
   "cell_type": "code",
   "execution_count": 226,
   "metadata": {
    "collapsed": false
   },
   "outputs": [
    {
     "name": "stdout",
     "output_type": "stream",
     "text": [
      "   Country  Education  NewCreditCustomer      mean  count\n",
      "12      EE        5.0              False  0.147355   8079\n",
      "Segment size is : 12    8079\n",
      "Name: count, dtype: int64\n"
     ]
    }
   ],
   "source": [
    "#Task4\n",
    "#Groupping by the given features and calculating mean and count per each segment\n",
    "data_gr = data.groupby(['Country', 'Education', 'NewCreditCustomer']).ProbabilityOfDefault.aggregate(['mean', 'count']).reset_index()\n",
    "#Filtring based segments more than 1000 observations\n",
    "data_gr = data_gr[data_gr['count']>1000]\n",
    "#Finding the segment with the lowest default rate\n",
    "dg = data_gr[data_gr['mean']==data_gr['mean'].min()]\n",
    "print(dg)\n",
    "\n",
    "print(\"Segment size is : {}\".format(dg['count']))"
   ]
  },
  {
   "cell_type": "code",
   "execution_count": 209,
   "metadata": {
    "collapsed": false
   },
   "outputs": [
    {
     "name": "stdout",
     "output_type": "stream",
     "text": [
      "Accuracy:\n",
      "0.17422739496539258\n",
      "  Country   sum  count  accuracy\n",
      "0      EE   112  13456  0.008323\n",
      "1      ES  3481   5730  0.607504\n",
      "2      FI   359   3497  0.102659\n"
     ]
    }
   ],
   "source": [
    "#Task5\n",
    "#Import libraries\n",
    "import numpy as np\n",
    "\n",
    "#Filter dates\n",
    "data_def = data[(data.FirstPaymentDate > '2016-01-01') & (data.FirstPaymentDate < '2017-11-01')][['ProbabilityOfDefault','DefaultDate', 'Country']]\n",
    "\n",
    "#Predictions with a probability higher and equal than 0.5 will be considered as 1 others as 0\n",
    "data_def.ProbabilityOfDefault = data.ProbabilityOfDefault.apply(lambda x : 1 if x>=0.5 else 0)\n",
    "\n",
    "#Accuracy - as filtered data contains only payments (non started payments excluded), \n",
    "# we calculate number of predicted payments to be started, then devided by all produced payments\n",
    "print(\"Accuracy:\")\n",
    "print( np.sum(data_def.ProbabilityOfDefault)/len(data_def))\n",
    "\n",
    "#Accuracy for each countries\n",
    "d = data_def.groupby('Country').ProbabilityOfDefault.aggregate(['sum','count']).reset_index()\n",
    "d['accuracy'] = d['sum']/d['count']\n",
    "print(d)"
   ]
  },
  {
   "cell_type": "markdown",
   "metadata": {},
   "source": [
    "We can see that the model is not well calibrated, as accuracy is too low. For Estonia it is calibrated well."
   ]
  }
 ],
 "metadata": {
  "kernelspec": {
   "display_name": "Python 3",
   "language": "python",
   "name": "python3"
  },
  "language_info": {
   "codemirror_mode": {
    "name": "ipython",
    "version": 3
   },
   "file_extension": ".py",
   "mimetype": "text/x-python",
   "name": "python",
   "nbconvert_exporter": "python",
   "pygments_lexer": "ipython3",
   "version": "3.5.2"
  }
 },
 "nbformat": 4,
 "nbformat_minor": 2
}
